{
 "cells": [
  {
   "cell_type": "code",
   "execution_count": 45,
   "metadata": {},
   "outputs": [],
   "source": [
    "# generate a vector of random numbers which obeys the given distribution.\n",
    "#\n",
    "# n: length of the vector\n",
    "# mu: mean value\n",
    "# sigma: standard deviation.\n",
    "# dist: choices for the distribution, you need to implement at least normal \n",
    "#       distribution and uniform distribution.\n",
    "#\n",
    "# For normal distribution, you can use ``numpy.random.normal`` to generate.\n",
    "# For uniform distribution, the interval to sample will be [mu - sigma/sqrt(3), mu + sigma/sqrt(3)].\n",
    "\n",
    "import numpy as np\n",
    "import math\n",
    "\n",
    "def generate_random_numbers(n, mu, sigma, dist=\"normal\"):\n",
    "    # write your code here.\n",
    "    if dist == \"normal\":\n",
    "        return np.random.normal(mu, sigma, n)\n",
    "    elif dist == \"uniform\":\n",
    "        #return np.random.choice(np.linspace(mu - sigma/math.sqrt(3), mu + sigma/math.sqrt(3), num = n*10),(1,n))[0]\n",
    "        return np.random.uniform((mu - sigma)/math.sqrt(3), (mu + sigma)/math.sqrt(3), (1,n))[0]\n",
    "    else:\n",
    "        raise Exception(\"The distribution {unknown_dist} is not implemented\".format(unknown_dist=dist))\n",
    "        \n",
    "        \n",
    "# test your code:\n",
    "y_test = generate_random_numbers(5, 0, 0.1, \"normal\")"
   ]
  },
  {
   "cell_type": "code",
   "execution_count": 46,
   "metadata": {},
   "outputs": [
    {
     "data": {
      "text/plain": [
       "array([-0.02360807, -0.08397214,  0.05438606,  0.03143655, -0.04268403])"
      ]
     },
     "execution_count": 46,
     "metadata": {},
     "output_type": "execute_result"
    }
   ],
   "source": [
    "y_test"
   ]
  },
  {
   "cell_type": "code",
   "execution_count": 47,
   "metadata": {},
   "outputs": [],
   "source": [
    "n, mu, sigma, dist = 1050, 0.5, 1.0, \"normal\"\n",
    "y1 = generate_random_numbers(n, mu, sigma, dist)\n",
    "\n",
    "n, mu, sigma, dist = 1050, 0.5, 1.0, \"uniform\"\n",
    "y2 = generate_random_numbers(n, mu, sigma, dist)"
   ]
  },
  {
   "cell_type": "code",
   "execution_count": 48,
   "metadata": {},
   "outputs": [
    {
     "name": "stdout",
     "output_type": "stream",
     "text": [
      "[-0.3334564   1.84757795 -0.75928968 ...  2.46112424 -0.40618684\n",
      "  0.14788601] [ 0.07148355  0.68497399  0.54942217 ...  0.63684316  0.04768009\n",
      " -0.27790073]\n"
     ]
    }
   ],
   "source": [
    "print(y1,y2)"
   ]
  },
  {
   "cell_type": "code",
   "execution_count": 49,
   "metadata": {},
   "outputs": [
    {
     "data": {
      "text/plain": [
       "(array([  1.,   4.,  34.,  90., 214., 269., 260., 113.,  53.,  12.]),\n",
       " array([-3.31029422, -2.63285701, -1.95541979, -1.27798258, -0.60054537,\n",
       "         0.07689184,  0.75432905,  1.43176626,  2.10920347,  2.78664068,\n",
       "         3.46407789]),\n",
       " <a list of 10 Patch objects>)"
      ]
     },
     "execution_count": 49,
     "metadata": {},
     "output_type": "execute_result"
    },
    {
     "data": {
      "image/png": "[encoded data removed]",
      "text/plain": [
       "<Figure size 432x288 with 1 Axes>"
      ]
     },
     "metadata": {},
     "output_type": "display_data"
    }
   ],
   "source": [
    "import matplotlib.pyplot as plt\n",
    "\n",
    "plt.hist(y1, bins = 10)"
   ]
  },
  {
   "cell_type": "code",
   "execution_count": 50,
   "metadata": {},
   "outputs": [
    {
     "data": {
      "text/plain": [
       "(array([104.,  94.,  99., 112., 130., 111., 102.,  90., 111.,  97.]),\n",
       " array([-0.28848241, -0.17316083, -0.05783925,  0.05748233,  0.1728039 ,\n",
       "         0.28812548,  0.40344706,  0.51876864,  0.63409021,  0.74941179,\n",
       "         0.86473337]),\n",
       " <a list of 10 Patch objects>)"
      ]
     },
     "execution_count": 50,
     "metadata": {},
     "output_type": "execute_result"
    },
    {
     "data": {
      "image/png": "[encoded data removed]",
      "text/plain": [
       "<Figure size 432x288 with 1 Axes>"
      ]
     },
     "metadata": {},
     "output_type": "display_data"
    }
   ],
   "source": [
    "plt.hist(y2, bins=10)"
   ]
  },
  {
   "cell_type": "code",
   "execution_count": 51,
   "metadata": {},
   "outputs": [],
   "source": [
    "# IGD, the ordering is permitted to have replacement. \n",
    "#\n",
    "#\n",
    "def IGD_wr_task1(y):\n",
    "    n = len(y)\n",
    "    ordering = np.random.choice(n, n, replace=True)\n",
    "    # implement the algorithm's iteration of IGD. Your result should return the the final xk\n",
    "    # at the last iteration and also the history of objective function at each xk.\n",
    "    pass\n",
    "\n",
    "\n",
    "# IGD, the ordering is not permitted to have replacement.\n",
    "#\n",
    "#\n",
    "def IGD_wo_task1(y):\n",
    "    n = len(y)\n",
    "    ordering = np.random.choice(n, n, replace=False)\n",
    "    # implement the algorithm's iteration of IGD. Your result should return the the final xk\n",
    "    # at the last iteration and also the history of objective function at each xk.\n",
    "    pass"
   ]
  },
  {
   "cell_type": "code",
   "execution_count": 52,
   "metadata": {},
   "outputs": [
    {
     "name": "stdout",
     "output_type": "stream",
     "text": [
      "None\n",
      "None\n"
     ]
    }
   ],
   "source": [
    "print(IGD_wr_task1(y1))\n",
    "print(IGD_wo_task1(y2))"
   ]
  },
  {
   "cell_type": "code",
   "execution_count": null,
   "metadata": {},
   "outputs": [],
   "source": []
  }
 ],
 "metadata": {
  "kernelspec": {
   "display_name": "Python 3",
   "language": "python",
   "name": "python3"
  },
  "language_info": {
   "codemirror_mode": {
    "name": "ipython",
    "version": 3
   },
   "file_extension": ".py",
   "mimetype": "text/x-python",
   "name": "python",
   "nbconvert_exporter": "python",
   "pygments_lexer": "ipython3",
   "version": "3.6.5"
  }
 },
 "nbformat": 4,
 "nbformat_minor": 2
}
