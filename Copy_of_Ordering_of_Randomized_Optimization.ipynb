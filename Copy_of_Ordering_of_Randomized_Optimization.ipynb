{
 "cells": [
  {
   "cell_type": "markdown",
   "metadata": {
    "colab_type": "text",
    "id": "SUfiwv22qUma"
   },
   "source": [
    "# Random or not so random?\n",
    "\n",
    "In the project, you will study the optimization algorithms related to the randomization. For a group of random algorithms, the randomness could be improved through certain strategy. The reference for this project comes from https://arxiv.org/pdf/1202.4184.pdf . \n",
    "\n",
    "The mathematical problem discussed in the above paper is quite simple, however it provides some insights for data science, especially for linear problems. The conjecture in the paper is still an open problem in general."
   ]
  },
  {
   "cell_type": "markdown",
   "metadata": {
    "colab_type": "text",
    "id": "_LtDgJBs0C9d"
   },
   "source": [
    "## First things first\n",
    "We review the gradient descent method learned in last quarter, for minimization of $f(x)$, the Gradient Descent (GD) iteration is \n",
    "$$x_{k+1} = x_k - \\alpha_k \\nabla f(x_k)$$\n",
    "with $\\alpha_k$ the chosen step length, usually a backtracking type loop is associated for the choice of $\\alpha_k$. \n",
    "\n"
   ]
  },
  {
   "cell_type": "markdown",
   "metadata": {
    "colab_type": "text",
    "id": "9f2jq6a-0qhc"
   },
   "source": [
    "## Incremental GD\n",
    "There are some variants of GD, like coordinate gradient descent or the stochastic gradient descent. Here we focus on the IGD: incremental GD, it is similar to the coordinate GD, which is dealing with something local and then deal with something else later. \n",
    "\n",
    "Suppose the problem is:\n",
    "$$\\min_x f(x) := \\sum_{i=1}^m f_i(x)$$\n",
    "the objective function is the summation of a few other objective functions. This is quite normal in real life applications. Especially the statistics and imaging science. \n",
    "\n",
    "The IGD is dealing with one of the $f_i$ with GD and then deal with others in similar manner. Suppose we have fixed an ordering $i_0, i_1, i_2, \\dots, i_k,\\dots$, this ordering is infinite or finite, the numbers are just sampled from $\\{ 1,2,\\dots, m\\}$, basically telling you an order of $f_i$ to deal with. During each iteration, we update $x_k$ by\n",
    "\n",
    "$$x_{k+1} = x_{k} - \\gamma_k \\nabla f_{i_k}(x_{k})$$\n",
    "where $\\gamma_k$ is the step length.  \n",
    "\n",
    "When the ordering is sampled uniformly from $\\{ 1,2,\\dots, m\\}$, then this method becomes **Stochastic GD**. But the ordering could be other kind or distribution, even deterministic, we will mainly focus on select a better strategy for the ordering."
   ]
  },
  {
   "cell_type": "markdown",
   "metadata": {
    "colab_type": "text",
    "id": "-b9lGznZDwSD"
   },
   "source": [
    "## Implementation Task 1\n",
    "\n",
    "This task comes from the Section 2.1 of the reference paper.\n",
    "\n",
    "We implement the 1D example of least square problem for the IGD. Then problem is given by \n",
    "\n",
    "$$\\min_x \\frac{1}{2}\\sum_{i=1}^n (x- y_i)^2$$\n",
    "where $y_i$ is a sequence of scalars sampled with certain given mean value $\\mu$ and variance $\\sigma^2$. Following the above method, the iteration will be\n",
    "$$x_{k+1} =x_k -\\gamma_k (x_{k} - y_{i_k})$$\n",
    "where $y_{i_k}$ comes from the selected ordering.  \n",
    "\n",
    "In the first task, you need to implement the following functions. "
   ]
  },
  {
   "cell_type": "code",
   "execution_count": 0,
   "metadata": {
    "colab": {},
    "colab_type": "code",
    "id": "RvnjT762FadE"
   },
   "outputs": [],
   "source": [
    "# generate a vector of random numbers which obeys the given distribution.\n",
    "#\n",
    "# n: length of the vector\n",
    "# mu: mean value\n",
    "# sigma: standard deviation.\n",
    "# dist: choices for the distribution, you need to implement at least normal \n",
    "#       distribution and uniform distribution.\n",
    "#\n",
    "# For normal distribution, you can use ``numpy.random.normal`` to generate.\n",
    "# For uniform distribution, the interval to sample will be [mu - sigma/sqrt(3), mu + sigma/sqrt(3)].\n",
    "\n",
    "import numpy as np\n",
    "\n",
    "def generate_random_numbers(n, mu, sigma, dist=\"normal\"):\n",
    "    # write your code here.\n",
    "    if dist == \"normal\":\n",
    "        return np.random.normal(mu, sigma, n)\n",
    "    elif dist == \"uniform\":\n",
    "        return np.random.uniform(mu - sigma/np.sqrt(3), mu + sigma/np.sqrt(3),n)\n",
    "        # write your code here.\n",
    "        pass\n",
    "    else:\n",
    "        raise Exception(\"The distribution {unknown_dist} is not implemented\".format(unknown_dist=dist))\n",
    "        \n",
    "        \n",
    "# test your code:\n",
    "y_test = generate_random_numbers(5, 0, 0.1, \"normal\")"
   ]
  },
  {
   "cell_type": "code",
   "execution_count": 0,
   "metadata": {
    "colab": {
     "base_uri": "https://localhost:8080/",
     "height": 34
    },
    "colab_type": "code",
    "id": "YojxZj1CUhZ4",
    "outputId": "26cc41ec-d0b3-4675-a64f-bea7bb0c6682"
   },
   "outputs": [
    {
     "name": "stdout",
     "output_type": "stream",
     "text": [
      "[ 0.01146155 -0.04602522 -0.00779624 -0.04192129 -0.01652708]\n"
     ]
    }
   ],
   "source": [
    "y_test = generate_random_numbers(5, 0, 0.1, \"uniform\")\n",
    "print(y_test)\n"
   ]
  },
  {
   "cell_type": "markdown",
   "metadata": {
    "colab_type": "text",
    "id": "MdytKKS9Iyd6"
   },
   "source": [
    "### Settings of the minimization problems\n",
    "Now you will setup the problem with a sampling of $y$ vector with the following two different settings:\n",
    "```\n",
    "n, mu, sigma, dist = 105, 0.5, 1.0, \"normal\"\n",
    "```\n",
    "and \n",
    "```\n",
    "n, mu, sigma, dist = 105, 0.5, 1.0, \"uniform\"\n",
    "```\n",
    "Your initial guess will be $x_0 = 0$ for both cases. The step length is taking the diminishing factor $\\gamma_k = \\frac{1}{k+1}$."
   ]
  },
  {
   "cell_type": "code",
   "execution_count": 0,
   "metadata": {
    "colab": {},
    "colab_type": "code",
    "id": "dZQTddxHPIBB"
   },
   "outputs": [],
   "source": [
    "y1 = generate_random_numbers(105, 0.5, 1.0, \"normal\")\n",
    "y2 = generate_random_numbers(105, 0.5, 1.0, \"uniform\")"
   ]
  },
  {
   "cell_type": "code",
   "execution_count": 0,
   "metadata": {
    "colab": {},
    "colab_type": "code",
    "id": "075fogaFU2ur"
   },
   "outputs": [],
   "source": []
  },
  {
   "cell_type": "markdown",
   "metadata": {
    "colab_type": "text",
    "id": "y2r5QCRCKfql"
   },
   "source": [
    "### Two orderings to experiment with\n",
    "\n",
    "1. Random ordering with replacement\n",
    "In this case, we do not choose the fixed ordering, we sample a number in $\\{1,2,\\dots, n \\}$ each time and follow the iteration.\n",
    "\n",
    "2. Random ordering without replacement\n",
    "In this case, we do not choose the fixed ordering, we sample an ordering without replacement from $\\{1,2,\\dots, n\\}$ and then follow the iteration."
   ]
  },
  {
   "cell_type": "markdown",
   "metadata": {
    "colab_type": "text",
    "id": "M-z2V1NNPqps"
   },
   "source": []
  },
  {
   "cell_type": "code",
   "execution_count": 0,
   "metadata": {
    "colab": {},
    "colab_type": "code",
    "id": "G-BDbTsMPT7I"
   },
   "outputs": [],
   "source": [
    "# IGD, the ordering is permitted to have replacement. \n",
    "#\n",
    "#\n",
    "def IGD_wr_task1(y):\n",
    "    n = len(y)\n",
    "    num_epochs = 1\n",
    "    f = []\n",
    "    x = 0\n",
    "    for e in range(num_epochs):\n",
    "        ordering = np.random.choice(n, n, replace=True)\n",
    "        for i in range(n):\n",
    "            loss = 1/2*np.sum((x-y)**2)\n",
    "            f.append(loss)\n",
    "            gamma = (1e-2)*(1/(i+1))#question? i or j\n",
    "            x = x-gamma*(x-y[ordering[i]])\n",
    "            #         print(loss)\n",
    "    return (x,f)\n",
    "\n",
    "        \n",
    "        \n",
    "    # implement the algorithm's iteration of IGD. Your result should return the the final xk\n",
    "    # at the last iteration and also the history of objective function at each xk.\n",
    "    \n",
    "\n",
    "\n",
    "# IGD, the ordering is not permitted to have replacement.\n",
    "#\n",
    "#\n",
    "def IGD_wo_task1(y):\n",
    "    n = len(y)\n",
    "    num_epochs = 1\n",
    "    f = []\n",
    "    x = 0\n",
    "    for e in range(num_epochs):\n",
    "        ordering = np.random.choice(n, n, replace=False)\n",
    "        for i in range(n):\n",
    "            loss = 1/2*np.sum((x-y)**2)\n",
    "            f.append(loss)\n",
    "            gamma = (1e-2)*(1/(i+1))#question? i or j\n",
    "            x = x-gamma*(x-y[ordering[i]])\n",
    "#             print(x)\n",
    "            #         print(loss)\n",
    "    return (x,f)\n"
   ]
  },
  {
   "cell_type": "markdown",
   "metadata": {
    "colab_type": "text",
    "id": "06UQih7YWvN8"
   },
   "source": [
    "### Your results to present\n",
    "Show your results by plotting two figures. For each cases of the above two settings, you need to plot the histories (``IGD_wr_task1`` and ``IGD_wo_task1``) of objective functions in the same figure. \n",
    "\n",
    "Conclude which strategy is better from the results. \n",
    "\n",
    "Briefly prove the ``IGD_wo_task1`` must converge to the true solution (mean value of ``y``). You can calculate first a few values of $x_k$ by hand to see why."
   ]
  },
  {
   "cell_type": "markdown",
   "metadata": {},
   "source": [
    "$x_k = x_{k-1} - \\frac{1}{k+1} \\Delta f_{i_k}(x_{k-1})$\n",
    "\n",
    "This can be rewritten as a sum:\n",
    "\n",
    "$x_k = x_0 - \\sum_{j=1}^{k-1} \\frac{1}{j+1} \\Delta f_{i_j}(x_j)$\n",
    "\n",
    "Drawing without replacement guarantees that every element will be tested at least once, thus as long as $\\frac{1}{j+1} \\Delta f$ is no larger than 1, and $\\Delta f$ changes signs, we can guarantee that this sequence converges. (This is the case with the given distribution and starting point.)\n",
    "\n",
    "The point to which such a series would converge is the one where the sum of all of the $\\Delta f$ are zero.\n",
    "\n",
    "We know that for any distribution, and for $\\Delta f = c(x_k-y_i)$, this number is the mean of the distribution by the definition of the mean."
   ]
  },
  {
   "cell_type": "code",
   "execution_count": 0,
   "metadata": {
    "colab": {
     "base_uri": "https://localhost:8080/",
     "height": 295
    },
    "colab_type": "code",
    "id": "P3QW1DOE2vA4",
    "outputId": "55521536-b00f-4be6-f567-9f8d2c0d94fc"
   },
   "outputs": [
    {
     "data": {
      "image/png": "[encoded data removed]",
      "text/plain": [
       "<Figure size 432x288 with 1 Axes>"
      ]
     },
     "metadata": {
      "tags": []
     },
     "output_type": "display_data"
    }
   ],
   "source": [
    "#1.1 IGD_wr_task1 with normal distribution y1\n",
    "import matplotlib.pyplot as plt\n",
    "# indexing = len(output[1])\n",
    "# print(output[1])\n",
    "output = IGD_wr_task1(y1)\n",
    "plt.plot(output[1])\n",
    "output = IGD_wo_task1(y1)\n",
    "plt.plot(output[1])\n",
    "plt.title(\"y1\")\n",
    "plt.legend([\"With replacement\",\"No replacement\"])\n",
    "plt.ylabel(\"objective functions\")\n",
    "plt.xlabel(\"number of iterations\")\n",
    "plt.show()\n",
    "\n"
   ]
  },
  {
   "cell_type": "code",
   "execution_count": 0,
   "metadata": {
    "colab": {
     "base_uri": "https://localhost:8080/",
     "height": 295
    },
    "colab_type": "code",
    "id": "Cb_iyC894iSU",
    "outputId": "e5ab5678-3b43-49a2-de03-10b9cea5cf31"
   },
   "outputs": [
    {
     "data": {
      "image/png": "[encoded data removed]",
      "text/plain": [
       "<Figure size 432x288 with 1 Axes>"
      ]
     },
     "metadata": {
      "tags": []
     },
     "output_type": "display_data"
    }
   ],
   "source": [
    "\n",
    "output = IGD_wr_task1(y2)\n",
    "plt.plot(output[1])\n",
    "output = IGD_wo_task1(y2)\n",
    "plt.plot(output[1])\n",
    "plt.title(\"y2\")\n",
    "plt.legend([\"With replacement\",\"No replacement\"])\n",
    "plt.ylabel(\"objective functions\")\n",
    "plt.xlabel(\"number of iterations\")\n",
    "plt.show()\n"
   ]
  },
  {
   "cell_type": "markdown",
   "metadata": {
    "colab_type": "text",
    "id": "QdgVbXHHXe8-"
   },
   "source": [
    "## Implementation Task 2\n",
    "\n",
    "This task comes from the Section 2.1 of the reference paper as well. \n",
    "\n",
    "Instead of the problem in Task 1, we consider another problem, which is quite simple.\n",
    "\n",
    "$$\\min_x \\frac{1}{2}\\sum_{i=1}^n \\beta_i (x - y)^2$$\n",
    "here $\\beta_i$ are positive weights, $y$ is a scalar. Clearly the minimum is at $x = y$. We try to use the IGD to solve the problem. \n",
    "\n",
    "$$x_{k+1} = x_k - \\gamma_k \\beta_{i_k} (x_k - y)$$\n",
    "\n",
    "where $\\gamma_k\\equiv \\gamma = 0.95 \\min \\beta_i^{-1}$. For simplicity, the $\\beta_i$ are sampled uniformly between $[1,2]$. Your task2 is the same as the task1,  use two kinds of ordering to solve the problem and compare the results through figures."
   ]
  },
  {
   "cell_type": "markdown",
   "metadata": {
    "colab_type": "text",
    "id": "UET_B4Usqy7e"
   },
   "source": [
    "### Your results to present\n",
    "Show your results by plotting two figures. For each cases of the above two settings, you need to plot the histories (``IGD_wr_task2`` and ``IGD_wo_task2``) of objective functions in the same figure. \n",
    "\n",
    "Conclude which strategy is better from the results. "
   ]
  },
  {
   "cell_type": "code",
   "execution_count": 0,
   "metadata": {
    "colab": {},
    "colab_type": "code",
    "id": "CIAKHSlkoNBh"
   },
   "outputs": [],
   "source": [
    "# IGD, the ordering is permitted to have replacement. \n",
    "#\n",
    "#\n",
    "\n",
    "\n",
    "def IGD_wr_task2(y,beta):\n",
    "    n = len(beta)\n",
    "    num_epochs = 1\n",
    "    f = []\n",
    "    x = 0\n",
    "    for e in range(num_epochs):\n",
    "        ordering = np.random.choice(n, n, replace=True)\n",
    "        for i in range(n):\n",
    "            loss = 1/2*np.sum(beta*(x-y)**2)\n",
    "            f.append(loss)\n",
    "            gamma = 0.00095*np.min(1/beta)\n",
    "            x = x-gamma*(beta[ordering[i]])*(x-y)\n",
    "#             print(x)\n",
    "    return (x,f)\n",
    "\n",
    "\n",
    "# IGD, the ordering is not permitted to have replacement.\n",
    "#\n",
    "#\n",
    "def IGD_wo_task2(y,beta):\n",
    "    n = len(beta)\n",
    "    num_epochs = 1\n",
    "    f = []\n",
    "    x = 0\n",
    "    for e in range(num_epochs):\n",
    "        ordering = np.random.choice(n, n, replace=False)\n",
    "        for i in range(n):\n",
    "            loss = 1/2*np.sum(beta*(x-y)**2)\n",
    "            f.append(loss)\n",
    "            gamma = 0.00095*np.min(1/beta)\n",
    "            x = x-gamma*(beta[ordering[i]])*(x-y)\n",
    "        #         print(loss)\n",
    "    return (x,f)"
   ]
  },
  {
   "cell_type": "code",
   "execution_count": 0,
   "metadata": {
    "colab": {},
    "colab_type": "code",
    "id": "BKzK42-EoDwB"
   },
   "outputs": [],
   "source": []
  },
  {
   "cell_type": "code",
   "execution_count": 0,
   "metadata": {
    "colab": {
     "base_uri": "https://localhost:8080/",
     "height": 295
    },
    "colab_type": "code",
    "id": "sAOT-4VKhuY8",
    "outputId": "6980ba93-5f46-4870-fe76-5de81a8c035b"
   },
   "outputs": [
    {
     "data": {
      "image/png": "[encoded data removed]",
      "text/plain": [
       "<Figure size 432x288 with 1 Axes>"
      ]
     },
     "metadata": {
      "tags": []
     },
     "output_type": "display_data"
    }
   ],
   "source": [
    "import matplotlib.pyplot as plt\n",
    "\n",
    "\n",
    "y1 = generate_random_numbers(1, 0, 1.0, \"normal\")\n",
    "\n",
    "beta = np.random.uniform(1,2,20)\n",
    "\n",
    "\n",
    "output = IGD_wr_task2(y1,beta)\n",
    "plt.plot(output[1])\n",
    "output = IGD_wo_task2(y1,beta)\n",
    "plt.plot(output[1])\n",
    "plt.title(\"y1\")\n",
    "plt.legend([\"With replacement\",\"No replacement\"])\n",
    "plt.ylabel(\"objective functions\")\n",
    "plt.xlabel(\"number of iterations\")\n",
    "plt.show()\n",
    "\n",
    "\n",
    "\n",
    "\n",
    "\n"
   ]
  },
  {
   "cell_type": "markdown",
   "metadata": {
    "colab_type": "text",
    "id": "mYZRw4AG_VMj"
   },
   "source": [
    "No replacement is better"
   ]
  },
  {
   "cell_type": "markdown",
   "metadata": {
    "colab_type": "text",
    "id": "4FZfrQ0wrNvH"
   },
   "source": [
    "## Implementation Task 3\n",
    "\n",
    "Now instead of 1D problem considered in above two tasks, we will consider the general case in higher dimensions, we study the least square problem to find solution of \n",
    "$$Ax = y$$\n",
    "where $A$ is an $m\\times n$ matrix and $x$ is a vector in $\\mathbb{R}^n$. In most cases, $m \\ge n$ which means the measurement is redundant for this linear model.  We denote the $i$th column $A^T$ as $a_i$ (namely the $i$th row of $A$ transposed), then we are minimizing\n",
    "\n",
    "$$\\min_x \\sum_{i=1}^m (a_i^T x - y_i)^2$$\n",
    "each $a_i\\in\\mathbb{R}^n$. \n",
    "\n",
    "And using IGD to minimize above problem with certain ordering. The step size $\\gamma$ is  taken as a fixed constant, say $10^{-3}$, which is a common value for GD. \n",
    "\n",
    "Each iteration will be \n",
    "\n",
    "$$x_{k+1} = x_k - \\gamma a_{i_k} (a_{i_k}^T x_{k} - y_{i_k})$$\n",
    "\n",
    "Your initial guess is still all zeros vector. \n"
   ]
  },
  {
   "cell_type": "markdown",
   "metadata": {
    "colab_type": "text",
    "id": "jevXn5siy2lq"
   },
   "source": [
    "### Generation of $y$\n",
    "The $y$ vector is generated by taking the following form\n",
    "$$y_i = a_i^T x^{\\ast} + w_i$$\n",
    "where $w_i$ obeys normal distribution of zero mean and variance of $\\rho^2$, here $\\rho = 10^{-2}$. "
   ]
  },
  {
   "cell_type": "code",
   "execution_count": 0,
   "metadata": {
    "colab": {},
    "colab_type": "code",
    "id": "m4dVvD5czPTP"
   },
   "outputs": [],
   "source": [
    "# generation of exact solution and data y and matrix A.\n",
    "import numpy as np\n",
    "def generate_problem_task3(m, n, rho):\n",
    "    A = np.random.normal(0., 1.0, (m, n))\n",
    "    x = np.random.random(n) # uniform in (0,1)\n",
    "    w = np.random.normal(0., rho, m)\n",
    "    y = A@x + w\n",
    "    return A, x, y"
   ]
  },
  {
   "cell_type": "code",
   "execution_count": 0,
   "metadata": {
    "colab": {},
    "colab_type": "code",
    "id": "xit131efzd09"
   },
   "outputs": [],
   "source": [
    "# We generate the problem with 200x100 matrix. rho as 0.01.\n",
    "#\n",
    "A, xstar, y = generate_problem_task3(200, 100, 0.01)"
   ]
  },
  {
   "cell_type": "code",
   "execution_count": 0,
   "metadata": {
    "colab": {
     "base_uri": "https://localhost:8080/",
     "height": 70
    },
    "colab_type": "code",
    "id": "qi-FZ5r4sFYO",
    "outputId": "c40111c1-9050-4753-c0f0-4b5d70ad2c1d"
   },
   "outputs": [
    {
     "name": "stdout",
     "output_type": "stream",
     "text": [
      "(200, 100)\n",
      "(100,)\n",
      "(200,)\n"
     ]
    }
   ],
   "source": [
    "print(A.shape)\n",
    "print(xstar.shape)\n",
    "print(y.shape)\n"
   ]
  },
  {
   "cell_type": "code",
   "execution_count": 0,
   "metadata": {
    "colab": {},
    "colab_type": "code",
    "id": "JmrxUfiHCacQ"
   },
   "outputs": [],
   "source": [
    "# In these two functions, we could only focus on the first n steps and try to make comparisons on these data only.\n",
    "# In practice, it requires more iterations to converge, due to the matrix might not be easy to deal with.\n",
    "# You can put the ordering loop into a naive loop: namely, we simply perform the IGD code several rounds.\n",
    "#\n",
    "#\n",
    "#\n",
    "# IGD, the ordering is permitted to have replacement. \n",
    "#\n",
    "#\n",
    "def IGD_wr_task3(y, A):\n",
    "\n",
    "    n = len(y)\n",
    "    num_epochs = 2\n",
    "    f = []\n",
    "    x = np.zeros(A.shape[1])\n",
    "    x_history = []\n",
    "    for e in range(num_epochs):\n",
    "        ordering = np.random.choice(n, n, replace=True)\n",
    "        for i in range(n):\n",
    "        #         print(A[:,i].shape)\n",
    "        #         print(x.shape)\n",
    "        #         print(y[i].shape)\n",
    "            loss = np.sum((A[i,:].T@x-y[i])**2)\n",
    "            f.append(loss)\n",
    "            gamma = 1e-2\n",
    "            x = x-gamma*A[ordering[i],:]*(A[ordering[i],:].T@x-y[ordering[i]])\n",
    "            x_history.append(x)\n",
    "    return (x,f,x_history)\n",
    "\n",
    "# IGD, the ordering is not permitted to have replacement.\n",
    "#\n",
    "#\n",
    "def IGD_wo_task3(y, A):\n",
    "    n = len(y)\n",
    "    num_epochs = 2\n",
    "    f = []\n",
    "    x = np.zeros(A.shape[1])\n",
    "    x_history = []\n",
    "    for e in range(num_epochs):\n",
    "        ordering = np.random.choice(n, n, replace=False)\n",
    "        for i in range(n):\n",
    "            loss = np.sum((A[i,:].T@x-y[i])**2)\n",
    "            f.append(loss)\n",
    "            gamma = 1e-2\n",
    "            x = x-gamma*A[ordering[i],:]*(A[ordering[i],:].T@x-y[ordering[i]])\n",
    "            x_history.append(x)\n",
    "\n",
    "    return (x,f,x_history)"
   ]
  },
  {
   "cell_type": "markdown",
   "metadata": {
    "colab_type": "text",
    "id": "CJ9-S1GZFiVJ"
   },
   "source": [
    "### Your results to present\n",
    "Show your results by plotting two figures. For each cases of the above two settings, you need to plot the histories (``IGD_wr_task3`` and ``IGD_wo_task3``) of objective functions in the same figure.  \n",
    "\n",
    "Then change your code to plot the histories of $\\|x_k - x^{\\ast }\\|$ and compare the results about the convergences.\n",
    "\n",
    "Conclude which strategy is better from the results. "
   ]
  },
  {
   "cell_type": "code",
   "execution_count": 0,
   "metadata": {
    "colab": {},
    "colab_type": "code",
    "id": "v-BGnpotYocN"
   },
   "outputs": [],
   "source": [
    "from  numpy.linalg import norm"
   ]
  },
  {
   "cell_type": "code",
   "execution_count": 0,
   "metadata": {
    "colab": {
     "base_uri": "https://localhost:8080/",
     "height": 295
    },
    "colab_type": "code",
    "id": "wGKB-3TtFyBk",
    "outputId": "de16f76b-78d2-4ca5-b25d-f01051bbc577"
   },
   "outputs": [
    {
     "data": {
      "image/png": "[encoded data removed]",
      "text/plain": [
       "<Figure size 432x288 with 1 Axes>"
      ]
     },
     "metadata": {
      "tags": []
     },
     "output_type": "display_data"
    }
   ],
   "source": [
    "output = IGD_wr_task3(y,A)\n",
    "plt.plot(output[1])\n",
    "\n",
    "\n",
    "\n",
    "output = IGD_wo_task3(y,A)\n",
    "plt.plot(output[1])\n",
    "plt.title(\"task3\")\n",
    "\n",
    "plt.legend([\"With replacement\",\"No replacement\"])\n",
    "plt.ylabel(\"objective functions\")\n",
    "plt.xlabel(\"number of iterations\")\n",
    "plt.show()"
   ]
  },
  {
   "cell_type": "code",
   "execution_count": 0,
   "metadata": {
    "colab": {
     "base_uri": "https://localhost:8080/",
     "height": 295
    },
    "colab_type": "code",
    "id": "ys2LXQImYocV",
    "outputId": "a07dbbd6-cd4e-4193-ea55-8aea0e168ebc",
    "scrolled": false
   },
   "outputs": [
    {
     "data": {
      "image/png": "[encoded data removed]",
      "text/plain": [
       "<Figure size 432x288 with 1 Axes>"
      ]
     },
     "metadata": {
      "tags": []
     },
     "output_type": "display_data"
    }
   ],
   "source": [
    "#plot the difference\n",
    "\n",
    "output = IGD_wr_task3(y,A)\n",
    "plt.plot(norm((output[2]-xstar),axis = 1))\n",
    "\n",
    "\n",
    "\n",
    "output = IGD_wo_task3(y,A)\n",
    "plt.plot(norm((output[2]-xstar),axis = 1))\n",
    "plt.title(\"task3\")\n",
    "\n",
    "plt.legend([\"With replacement\",\"No replacement\"])\n",
    "plt.ylabel(\"objective functions\")\n",
    "plt.xlabel(\"number of iterations\")\n",
    "plt.show()\n",
    "\n",
    "\n",
    "\n"
   ]
  },
  {
   "cell_type": "markdown",
   "metadata": {
    "colab_type": "text",
    "id": "fwuiSpjw_GFW"
   },
   "source": [
    "No replacement is better"
   ]
  },
  {
   "cell_type": "code",
   "execution_count": 0,
   "metadata": {
    "colab": {},
    "colab_type": "code",
    "id": "9IjtOOjP_KTu"
   },
   "outputs": [],
   "source": []
  }
 ],
 "metadata": {
  "colab": {
   "collapsed_sections": [],
   "name": "Copy_of_Ordering_of_Randomized_Optimization.ipynb",
   "provenance": [],
   "toc_visible": true,
   "version": "0.3.2"
  },
  "kernelspec": {
   "display_name": "Python 3",
   "language": "python",
   "name": "python3"
  },
  "language_info": {
   "codemirror_mode": {
    "name": "ipython",
    "version": 3
   },
   "file_extension": ".py",
   "mimetype": "text/x-python",
   "name": "python",
   "nbconvert_exporter": "python",
   "pygments_lexer": "ipython3",
   "version": "3.7.3"
  }
 },
 "nbformat": 4,
 "nbformat_minor": 1
}
