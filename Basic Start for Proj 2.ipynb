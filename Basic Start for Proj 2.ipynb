{
 "cells": [
  {
   "cell_type": "code",
   "execution_count": 12,
   "metadata": {},
   "outputs": [],
   "source": [
    "# generate a vector of random numbers which obeys the given distribution.\n",
    "#\n",
    "# n: length of the vector\n",
    "# mu: mean value\n",
    "# sigma: standard deviation.\n",
    "# dist: choices for the distribution, you need to implement at least normal \n",
    "#       distribution and uniform distribution.\n",
    "#\n",
    "# For normal distribution, you can use ``numpy.random.normal`` to generate.\n",
    "# For uniform distribution, the interval to sample will be [mu - sigma/sqrt(3), mu + sigma/sqrt(3)].\n",
    "\n",
    "import numpy as np\n",
    "import math\n",
    "\n",
    "def generate_random_numbers(n, mu, sigma, dist=\"normal\"):\n",
    "    # write your code here.\n",
    "    if dist == \"normal\":\n",
    "        return np.random.normal(mu, sigma, n)\n",
    "    elif dist == \"uniform\":\n",
    "        #return np.random.choice(np.linspace(mu - sigma/math.sqrt(3), mu + sigma/math.sqrt(3), num = n*10),(1,n))[0]\n",
    "        return np.random.uniform(mu - sigma/math.sqrt(3), mu + sigma/math.sqrt(3), (1,n))[0]\n",
    "    else:\n",
    "        raise Exception(\"The distribution {unknown_dist} is not implemented\".format(unknown_dist=dist))\n",
    "        \n",
    "        \n",
    "# test your code:\n",
    "y_test = generate_random_numbers(5, 0, 0.1, \"normal\")"
   ]
  },
  {
   "cell_type": "code",
   "execution_count": 13,
   "metadata": {},
   "outputs": [
    {
     "data": {
      "text/plain": [
       "array([-0.11222237,  0.06085736, -0.22180465,  0.08035595,  0.09833703])"
      ]
     },
     "execution_count": 13,
     "metadata": {},
     "output_type": "execute_result"
    }
   ],
   "source": [
    "y_test"
   ]
  },
  {
   "cell_type": "code",
   "execution_count": 14,
   "metadata": {},
   "outputs": [],
   "source": [
    "n, mu, sigma, dist = 105, 0.5, 1.0, \"normal\"\n",
    "y1 = generate_random_numbers(n, mu, sigma, dist)\n",
    "\n",
    "n, mu, sigma, dist = 105, 0.5, 1.0, \"uniform\"\n",
    "y2 = generate_random_numbers(n, mu, sigma, dist)"
   ]
  },
  {
   "cell_type": "code",
   "execution_count": 15,
   "metadata": {},
   "outputs": [
    {
     "name": "stdout",
     "output_type": "stream",
     "text": [
      "[-3.91915252e-01  1.13471742e+00  9.73217289e-01  8.35418752e-01\n",
      "  1.51058269e-01  7.23780798e-01 -3.74759923e-01 -2.16836955e-01\n",
      " -2.49614090e-01 -9.10786253e-01  8.59250497e-01  6.85469039e-01\n",
      "  7.84089149e-01  5.36447832e-01 -7.71844227e-01  1.12578775e+00\n",
      "  1.53160431e+00 -1.70416115e-01 -6.04423829e-02  2.49989952e+00\n",
      "  1.55764742e+00  1.12324301e+00  1.43241568e+00  2.73747842e-01\n",
      "  9.38078463e-01  4.26763654e-01 -7.36531629e-01  1.78495121e+00\n",
      "  4.80384955e-01  5.87406931e-01  6.03756420e-02  1.91931936e+00\n",
      "  1.33503049e+00  6.37826799e-01 -1.86949431e+00  1.09914414e+00\n",
      " -1.46185481e-01  1.50089192e-01  1.52866657e+00  4.37180487e-02\n",
      " -3.84819030e-01 -7.71107352e-02  1.23770486e+00  6.41027204e-01\n",
      "  1.23280970e+00  3.77227608e-01 -3.74209014e-01  9.38764797e-01\n",
      " -4.86166467e-01 -5.65152747e-01  1.82292715e+00  5.72874100e-01\n",
      "  1.31629913e+00  4.76988836e-01  1.06737207e+00 -8.70518384e-01\n",
      "  2.13035632e+00  1.58654096e+00  4.53216356e-01  2.57590668e+00\n",
      "  1.70579372e+00 -2.99547509e-01 -1.66956801e+00  4.34946082e-01\n",
      "  1.83695057e+00  3.18378960e-01  2.33860486e+00  2.57503697e-01\n",
      "  5.72899672e-01  2.92326607e-01 -6.27843291e-01  2.14081116e+00\n",
      "  4.82238125e-01  4.61690773e-02 -5.03812518e-01 -6.16729764e-01\n",
      "  1.62752872e+00  1.99177515e-03  1.22292466e+00  1.67608041e+00\n",
      "  2.14472221e+00 -1.67007287e-01 -8.32978375e-01  2.37459448e-01\n",
      " -7.81462504e-01  8.28555157e-01  7.53934949e-01  5.50974878e-01\n",
      "  7.08477673e-01 -1.11119970e+00  8.60146326e-02  1.34937119e+00\n",
      "  9.81648937e-01  3.26613260e-01  2.20585544e+00 -6.56800352e-01\n",
      "  4.38852876e-01  1.02019326e+00 -1.13650688e+00  1.15020290e-01\n",
      " -7.14343765e-01  1.78218451e-01 -5.49636337e-01  1.24017676e+00\n",
      "  2.61733886e+00] [ 0.32443666 -0.02655249 -0.0687641   0.29165385  0.6976833   0.10298948\n",
      "  0.3148664   0.16965023  0.47529979  0.97841564  0.27956285  0.11459942\n",
      "  0.01249099  0.03021577  0.57328379  0.76245938  0.75926814  0.99410423\n",
      " -0.07239735  0.6562691   0.935371    0.69425419  0.81704819  0.85321932\n",
      "  0.91215228  0.34314898  0.98509131  0.5408585   0.7583378   0.35484584\n",
      "  0.15916886  0.80417527  0.74249189  0.3120312   0.67322446  0.82981632\n",
      "  0.40320685  0.3964838   1.04340684  0.89890536  0.24040823  0.5200687\n",
      "  0.40893862  0.70531958  0.31416384  1.00241919  0.38312649  0.51230352\n",
      "  0.62359959  0.24805736  0.47132969  0.01620002  1.05537575  0.02952077\n",
      "  0.89722394  0.74508389  0.98812478  0.12148677  0.61621012  0.47574157\n",
      "  0.82171657  0.82438255  0.15672907  0.20902376  0.45283423  0.37612071\n",
      "  0.44099404  0.35328124  0.83560906  0.52848737  0.96939597  0.34424093\n",
      "  0.87730301  0.76344033  1.00202693  0.99261896  0.51791567  0.22796468\n",
      "  0.85652123  0.0841761   0.71842945  0.49842043  0.24343069  0.68599815\n",
      "  0.29755726  0.76085425  1.01520128 -0.02100382  0.6480201   0.70299031\n",
      "  0.3774772   0.67598974  0.0508127   0.42884208  0.84264985  0.91924444\n",
      "  1.03676071  0.48296775  0.9456176   0.16727573  0.62865077  0.77361338\n",
      "  0.01153561  0.87684393  0.34059993]\n"
     ]
    }
   ],
   "source": [
    "print(y1,y2)"
   ]
  },
  {
   "cell_type": "code",
   "execution_count": 16,
   "metadata": {},
   "outputs": [
    {
     "data": {
      "text/plain": [
       "(array([ 2.,  2., 12., 13., 16., 20., 17., 11.,  7.,  5.]),\n",
       " array([-1.86949431, -1.420811  , -0.97212768, -0.52344436, -0.07476105,\n",
       "         0.37392227,  0.82260559,  1.27128891,  1.71997222,  2.16865554,\n",
       "         2.61733886]),\n",
       " <a list of 10 Patch objects>)"
      ]
     },
     "execution_count": 16,
     "metadata": {},
     "output_type": "execute_result"
    },
    {
     "data": {
      "image/png": "[encoded data removed]",
      "text/plain": [
       "<Figure size 432x288 with 1 Axes>"
      ]
     },
     "metadata": {
      "needs_background": "light"
     },
     "output_type": "display_data"
    }
   ],
   "source": [
    "import matplotlib.pyplot as plt\n",
    "\n",
    "plt.hist(y1, bins = 10)"
   ]
  },
  {
   "cell_type": "code",
   "execution_count": 17,
   "metadata": {
    "scrolled": true
   },
   "outputs": [
    {
     "name": "stdout",
     "output_type": "stream",
     "text": [
      "0.5423336921407339\n"
     ]
    },
    {
     "data": {
      "image/png": "[encoded data removed]",
      "text/plain": [
       "<Figure size 432x288 with 1 Axes>"
      ]
     },
     "metadata": {
      "needs_background": "light"
     },
     "output_type": "display_data"
    }
   ],
   "source": [
    "plt.hist(y2, bins=10)\n",
    "print(np.mean(y2))"
   ]
  },
  {
   "cell_type": "code",
   "execution_count": 18,
   "metadata": {},
   "outputs": [],
   "source": [
    "# IGD, the ordering is permitted to have replacement. \n",
    "#\n",
    "#\n",
    "def IGD_wr_task1(y):\n",
    "    n = len(y)\n",
    "    ordering = np.random.choice(n, n, replace=True)\n",
    "    alpha = 1\n",
    "    x = [0]\n",
    "    k = 0\n",
    "    for i in ordering:\n",
    "        k += 1\n",
    "        x.append(x[-1] - (1/(k+1))*alpha*(x[-1] - y[i]))\n",
    "    return x\n",
    "\n",
    "\n",
    "# IGD, the ordering is not permitted to have replacement.\n",
    "#\n",
    "#\n",
    "def IGD_wo_task1(y):\n",
    "    n = len(y)\n",
    "    ordering = np.random.choice(n, n, replace=False)\n",
    "    alpha = 1\n",
    "    x = [0]\n",
    "    k = 0\n",
    "    for i in ordering:\n",
    "        k += 1\n",
    "        x.append(x[-1] - (1/(k+1))*alpha*(x[-1] - y[i]))\n",
    "    return x"
   ]
  },
  {
   "cell_type": "code",
   "execution_count": 19,
   "metadata": {},
   "outputs": [],
   "source": [
    "wr1 = IGD_wr_task1(y1)\n",
    "wo1 = IGD_wo_task1(y1)\n",
    "wr2 = IGD_wr_task1(y2)\n",
    "wo2 = IGD_wo_task1(y2)"
   ]
  },
  {
   "cell_type": "code",
   "execution_count": 20,
   "metadata": {},
   "outputs": [
    {
     "data": {
      "text/plain": [
       "[<matplotlib.lines.Line2D at 0x7fa0e030cac8>]"
      ]
     },
     "execution_count": 20,
     "metadata": {},
     "output_type": "execute_result"
    },
    {
     "data": {
      "image/png": "[encoded data removed]",
      "text/plain": [
       "<Figure size 432x288 with 1 Axes>"
      ]
     },
     "metadata": {
      "needs_background": "light"
     },
     "output_type": "display_data"
    }
   ],
   "source": [
    "plt.plot(np.arange(n+1),wr1)\n",
    "plt.plot(np.arange(n+1),wr2)\n",
    "plt.plot(np.arange(n+1),0.5*np.ones(n+1))"
   ]
  },
  {
   "cell_type": "code",
   "execution_count": 21,
   "metadata": {},
   "outputs": [
    {
     "data": {
      "text/plain": [
       "[<matplotlib.lines.Line2D at 0x7fa0e0270588>]"
      ]
     },
     "execution_count": 21,
     "metadata": {},
     "output_type": "execute_result"
    },
    {
     "data": {
      "image/png": "[encoded data removed]",
      "text/plain": [
       "<Figure size 432x288 with 1 Axes>"
      ]
     },
     "metadata": {
      "needs_background": "light"
     },
     "output_type": "display_data"
    }
   ],
   "source": [
    "plt.plot(np.arange(n+1),wo1)\n",
    "plt.plot(np.arange(n+1),wo2)\n",
    "plt.plot(np.arange(n+1),0.5*np.ones(n+1))"
   ]
  },
  {
   "cell_type": "code",
   "execution_count": null,
   "metadata": {},
   "outputs": [],
   "source": []
  },
  {
   "cell_type": "code",
   "execution_count": null,
   "metadata": {},
   "outputs": [],
   "source": []
  }
 ],
 "metadata": {
  "kernelspec": {
   "display_name": "Python 3",
   "language": "python",
   "name": "python3"
  },
  "language_info": {
   "codemirror_mode": {
    "name": "ipython",
    "version": 3
   },
   "file_extension": ".py",
   "mimetype": "text/x-python",
   "name": "python",
   "nbconvert_exporter": "python",
   "pygments_lexer": "ipython3",
   "version": "3.6.7"
  }
 },
 "nbformat": 4,
 "nbformat_minor": 2
}
