{
 "cells": [
  {
   "cell_type": "code",
   "execution_count": 244,
   "metadata": {},
   "outputs": [],
   "source": [
    "# generate a vector of random numbers which obeys the given distribution.\n",
    "#\n",
    "# n: length of the vector\n",
    "# mu: mean value\n",
    "# sigma: standard deviation.\n",
    "# dist: choices for the distribution, you need to implement at least normal \n",
    "#       distribution and uniform distribution.\n",
    "#\n",
    "# For normal distribution, you can use ``numpy.random.normal`` to generate.\n",
    "# For uniform distribution, the interval to sample will be [mu - sigma/sqrt(3), mu + sigma/sqrt(3)].\n",
    "\n",
    "import numpy as np\n",
    "import math\n",
    "\n",
    "def generate_random_numbers(n, mu, sigma, dist=\"normal\"):\n",
    "    # write your code here.\n",
    "    if dist == \"normal\":\n",
    "        return np.random.normal(mu, sigma, n)\n",
    "    elif dist == \"uniform\":\n",
    "        #return np.random.choice(np.linspace(mu - sigma/math.sqrt(3), mu + sigma/math.sqrt(3), num = n*10),(1,n))[0]\n",
    "        return np.random.uniform((mu - sigma)/math.sqrt(3), (mu + sigma)/math.sqrt(3), (1,n))[0]\n",
    "    else:\n",
    "        raise Exception(\"The distribution {unknown_dist} is not implemented\".format(unknown_dist=dist))\n",
    "        \n",
    "        \n",
    "# test your code:\n",
    "y_test = generate_random_numbers(5, 0, 0.1, \"normal\")"
   ]
  },
  {
   "cell_type": "code",
   "execution_count": 245,
   "metadata": {},
   "outputs": [
    {
     "data": {
      "text/plain": [
       "array([ 0.05604993, -0.03996949, -0.06589231,  0.03260372, -0.00147541])"
      ]
     },
     "execution_count": 245,
     "metadata": {},
     "output_type": "execute_result"
    }
   ],
   "source": [
    "y_test"
   ]
  },
  {
   "cell_type": "code",
   "execution_count": 246,
   "metadata": {},
   "outputs": [],
   "source": [
    "n, mu, sigma, dist = 105, 0.5, 1.0, \"normal\"\n",
    "y1 = generate_random_numbers(n, mu, sigma, dist)\n",
    "\n",
    "n, mu, sigma, dist = 105, 0.5, 1.0, \"uniform\"\n",
    "y2 = generate_random_numbers(n, mu, sigma, dist)"
   ]
  },
  {
   "cell_type": "code",
   "execution_count": 247,
   "metadata": {
    "scrolled": true
   },
   "outputs": [
    {
     "name": "stdout",
     "output_type": "stream",
     "text": [
      "[ 0.71176296  0.1071846   0.71725515  0.93772817  1.31821051  1.83379488\n",
      " -0.89974649  0.41821103  0.18302839  0.66837106 -1.11792656  2.27381777\n",
      "  0.09747021  1.28342018  0.27060307 -0.16426233  1.67766501  1.25144636\n",
      " -0.14674627 -0.03522171  1.46291712 -1.07926367  1.3366205   1.41004724\n",
      "  0.59416304  1.0531122   1.30894537  1.01867484  0.20290124  2.19179443\n",
      "  1.67969069  0.95663551  0.49978306  0.37702639 -0.9955021  -1.11958134\n",
      " -0.51111563 -0.32195694 -0.78670579  0.75830185  0.07302151 -1.56008981\n",
      "  0.40334121 -1.11795174 -0.15383862  1.15281985  0.90149124  2.07967777\n",
      "  0.93689727  0.22554199  1.16376273  2.32136768 -0.57515789  0.07946057\n",
      "  1.28727948 -0.03604833 -0.42578771  0.54889138  0.04028706 -1.00187363\n",
      " -1.83907295 -0.45087312  0.77199417  1.06851809  0.02464954 -0.39689542\n",
      " -1.13040817  0.85658304 -0.51413152  0.52128034  1.7169542  -0.66811981\n",
      "  2.21895333  0.76766486 -0.41309603  0.86788804 -0.23648748 -0.73131217\n",
      " -0.04595025  0.55122666  0.71437729  1.2135753   0.7314561   1.60985133\n",
      "  0.72175294  0.13671756  0.53579865  0.29963206 -1.01750613  0.42370051\n",
      "  0.20281283  0.47906221  1.90114607 -0.14396518  2.48652541  1.17165238\n",
      " -1.05183679  0.95626553 -0.54550314 -0.07168767  0.73956813  0.97804191\n",
      " -1.18221428  1.49138794  0.77340304] [ 0.78103006  0.37083678  0.20256321  0.79336438  0.35168499  0.82264081\n",
      "  0.48725776  0.10848194  0.0753583   0.17524966  0.15477447  0.58180384\n",
      "  0.10125956  0.36489913  0.1763449   0.17783388  0.57869124 -0.21767678\n",
      " -0.24364331  0.84243692  0.31495562  0.27942667  0.60522034  0.41312256\n",
      "  0.45616723  0.4672343   0.12436568  0.6269423   0.39675047 -0.28758532\n",
      "  0.79215631 -0.14784159  0.02544672 -0.01502039  0.2900994   0.34385188\n",
      "  0.05965612  0.84715505  0.02039655  0.61924746  0.50620186  0.83355836\n",
      "  0.05486656  0.23400102  0.56558995 -0.00854805  0.28430298  0.33505493\n",
      "  0.16780389 -0.02573338  0.27859588 -0.07568153  0.24872597 -0.19749197\n",
      "  0.30146857 -0.09961666  0.80244657  0.33836118 -0.13521453  0.30042452\n",
      "  0.61044461  0.32016209 -0.03829792 -0.21715126  0.81437575  0.40964907\n",
      "  0.85759538  0.76684275  0.21955347  0.36135609  0.81712617  0.15618219\n",
      "  0.20021447 -0.0379099   0.48917169  0.15007425 -0.20164657 -0.10674021\n",
      "  0.30754464  0.19448954  0.04520304  0.12920291  0.01956828  0.71776537\n",
      " -0.13302586  0.71644463  0.28589359  0.21496575 -0.17576712  0.34367354\n",
      "  0.39107823 -0.05924393  0.66746968 -0.27030437  0.0969535   0.85597267\n",
      " -0.09108605  0.2849067   0.26366642  0.09757779 -0.14096492  0.8069366\n",
      "  0.11985053  0.26218331 -0.18280693]\n"
     ]
    }
   ],
   "source": [
    "print(y1,y2)"
   ]
  },
  {
   "cell_type": "code",
   "execution_count": 248,
   "metadata": {
    "collapsed": true
   },
   "outputs": [
    {
     "data": {
      "text/plain": [
       "(array([ 2., 10.,  6., 12., 17., 18., 18., 11.,  5.,  6.]),\n",
       " array([-1.83907295, -1.40651312, -0.97395328, -0.54139344, -0.10883361,\n",
       "         0.32372623,  0.75628606,  1.1888459 ,  1.62140574,  2.05396557,\n",
       "         2.48652541]),\n",
       " <a list of 10 Patch objects>)"
      ]
     },
     "execution_count": 248,
     "metadata": {},
     "output_type": "execute_result"
    },
    {
     "data": {
      "image/png": "[encoded data removed]",
      "text/plain": [
       "<Figure size 432x288 with 1 Axes>"
      ]
     },
     "metadata": {},
     "output_type": "display_data"
    }
   ],
   "source": [
    "import matplotlib.pyplot as plt\n",
    "\n",
    "plt.hist(y1, bins = 10)"
   ]
  },
  {
   "cell_type": "code",
   "execution_count": 249,
   "metadata": {
    "scrolled": true
   },
   "outputs": [
    {
     "data": {
      "text/plain": [
       "(array([ 9.,  9., 10., 13., 16., 17.,  7.,  7.,  3., 14.]),\n",
       " array([-0.28758532, -0.17306725, -0.05854918,  0.05596889,  0.17048696,\n",
       "         0.28500503,  0.3995231 ,  0.51404117,  0.62855924,  0.74307731,\n",
       "         0.85759538]),\n",
       " <a list of 10 Patch objects>)"
      ]
     },
     "execution_count": 249,
     "metadata": {},
     "output_type": "execute_result"
    },
    {
     "data": {
      "image/png": "[encoded data removed]",
      "text/plain": [
       "<Figure size 432x288 with 1 Axes>"
      ]
     },
     "metadata": {},
     "output_type": "display_data"
    }
   ],
   "source": [
    "plt.hist(y2, bins=10)"
   ]
  },
  {
   "cell_type": "code",
   "execution_count": 259,
   "metadata": {},
   "outputs": [],
   "source": [
    "# IGD, the ordering is permitted to have replacement. \n",
    "#\n",
    "#\n",
    "def IGD_wr_task1(y):\n",
    "    n = len(y)\n",
    "    ordering = np.random.choice(n, n, replace=True)\n",
    "    alpha = 0.1\n",
    "    x = [0]\n",
    "    k = 0\n",
    "    for i in ordering:\n",
    "        k += 1\n",
    "        x.append(x[-1] - (1/(k+1))*alpha*(x[-1] - y[i]))\n",
    "    return x\n",
    "\n",
    "\n",
    "# IGD, the ordering is not permitted to have replacement.\n",
    "#\n",
    "#\n",
    "def IGD_wo_task1(y):\n",
    "    n = len(y)\n",
    "    ordering = np.random.choice(n, n, replace=False)\n",
    "    alpha = 0.1\n",
    "    x = [0]\n",
    "    k = 0\n",
    "    for i in ordering:\n",
    "        k += 1\n",
    "        x.append(x[-1] - (1/(k+1))*alpha*(x[-1] - y[i]))\n",
    "    return x"
   ]
  },
  {
   "cell_type": "code",
   "execution_count": 260,
   "metadata": {},
   "outputs": [],
   "source": [
    "wr1 = IGD_wr_task1(y1)\n",
    "wo1 = IGD_wo_task1(y1)\n",
    "wr2 = IGD_wr_task1(y2)\n",
    "wo2 = IGD_wo_task1(y2)"
   ]
  },
  {
   "cell_type": "code",
   "execution_count": 265,
   "metadata": {},
   "outputs": [
    {
     "data": {
      "text/plain": [
       "[<matplotlib.lines.Line2D at 0x1b8d48d9cf8>]"
      ]
     },
     "execution_count": 265,
     "metadata": {},
     "output_type": "execute_result"
    },
    {
     "data": {
      "image/png": "[encoded data removed]",
      "text/plain": [
       "<Figure size 432x288 with 1 Axes>"
      ]
     },
     "metadata": {},
     "output_type": "display_data"
    }
   ],
   "source": [
    "plt.plot(np.arange(n+1),wr1)\n",
    "plt.plot(np.arange(n+1),wr2)\n",
    "plt.plot(np.arange(n+1),0.5*np.ones(n+1))"
   ]
  },
  {
   "cell_type": "code",
   "execution_count": 266,
   "metadata": {},
   "outputs": [
    {
     "data": {
      "text/plain": [
       "[<matplotlib.lines.Line2D at 0x1b8d482cb70>]"
      ]
     },
     "execution_count": 266,
     "metadata": {},
     "output_type": "execute_result"
    },
    {
     "data": {
      "image/png": "[encoded data removed]",
      "text/plain": [
       "<Figure size 432x288 with 1 Axes>"
      ]
     },
     "metadata": {},
     "output_type": "display_data"
    }
   ],
   "source": [
    "plt.plot(np.arange(n+1),wo1)\n",
    "plt.plot(np.arange(n+1),wo2)\n",
    "plt.plot(np.arange(n+1),0.5*np.ones(n+1))"
   ]
  },
  {
   "cell_type": "code",
   "execution_count": null,
   "metadata": {},
   "outputs": [],
   "source": []
  }
 ],
 "metadata": {
  "kernelspec": {
   "display_name": "Python 3",
   "language": "python",
   "name": "python3"
  },
  "language_info": {
   "codemirror_mode": {
    "name": "ipython",
    "version": 3
   },
   "file_extension": ".py",
   "mimetype": "text/x-python",
   "name": "python",
   "nbconvert_exporter": "python",
   "pygments_lexer": "ipython3",
   "version": "3.6.5"
  }
 },
 "nbformat": 4,
 "nbformat_minor": 2
}
