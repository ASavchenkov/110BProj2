{
 "cells": [
  {
   "cell_type": "code",
   "execution_count": 1,
   "metadata": {},
   "outputs": [],
   "source": [
    "# generate a vector of random numbers which obeys the given distribution.\n",
    "#\n",
    "# n: length of the vector\n",
    "# mu: mean value\n",
    "# sigma: standard deviation.\n",
    "# dist: choices for the distribution, you need to implement at least normal \n",
    "#       distribution and uniform distribution.\n",
    "#\n",
    "# For normal distribution, you can use ``numpy.random.normal`` to generate.\n",
    "# For uniform distribution, the interval to sample will be [mu - sigma/sqrt(3), mu + sigma/sqrt(3)].\n",
    "\n",
    "import numpy as np\n",
    "import math\n",
    "\n",
    "def generate_random_numbers(n, mu, sigma, dist=\"normal\"):\n",
    "    # write your code here.\n",
    "    if dist == \"normal\":\n",
    "        return np.random.normal(mu, sigma, n)\n",
    "    elif dist == \"uniform\":\n",
    "        #return np.random.choice(np.linspace(mu - sigma/math.sqrt(3), mu + sigma/math.sqrt(3), num = n*10),(1,n))[0]\n",
    "        return np.random.uniform(mu - sigma/math.sqrt(3), mu + sigma/math.sqrt(3), (1,n))[0]\n",
    "    else:\n",
    "        raise Exception(\"The distribution {unknown_dist} is not implemented\".format(unknown_dist=dist))\n",
    "        \n",
    "        \n",
    "# test your code:\n",
    "y_test = generate_random_numbers(5, 0, 0.1, \"normal\")"
   ]
  },
  {
   "cell_type": "code",
   "execution_count": 2,
   "metadata": {},
   "outputs": [
    {
     "data": {
      "text/plain": [
       "array([ 0.06070735,  0.02563096, -0.08745117,  0.07381562,  0.09947272])"
      ]
     },
     "execution_count": 2,
     "metadata": {},
     "output_type": "execute_result"
    }
   ],
   "source": [
    "y_test"
   ]
  },
  {
   "cell_type": "code",
   "execution_count": 3,
   "metadata": {},
   "outputs": [],
   "source": [
    "n, mu, sigma, dist = 105, 0.5, 1.0, \"normal\"\n",
    "y1 = generate_random_numbers(n, mu, sigma, dist)\n",
    "\n",
    "n, mu, sigma, dist = 105, 0.5, 1.0, \"uniform\"\n",
    "y2 = generate_random_numbers(n, mu, sigma, dist)"
   ]
  },
  {
   "cell_type": "code",
   "execution_count": 4,
   "metadata": {},
   "outputs": [
    {
     "name": "stdout",
     "output_type": "stream",
     "text": [
      "[-0.20959949  1.78866477 -1.95370508 -0.31024941  0.32363851  0.53097082\n",
      "  1.36543623  0.40392943 -0.43412712  1.39481352 -0.06222214 -0.03144991\n",
      "  1.99530731  0.81746534  1.06846595 -1.27198282  2.36953322  1.17232639\n",
      " -0.65799477  0.65896433  0.04058391 -0.15241135  1.87543368  0.32500992\n",
      "  2.11125993  0.40946533  0.05098642  0.62607786  0.18591315  0.96565976\n",
      " -0.0076397  -0.76522255 -0.74241992  2.01445906 -0.00713037  1.72888064\n",
      "  2.12935544 -0.83750562  1.67160161 -0.70413807  2.13381128 -0.07245562\n",
      "  0.6158151  -0.95281738  1.72732599  0.10303889  0.30653293  1.93687747\n",
      "  2.10070659 -0.63336979 -0.24878729  1.55111301  1.05386704  0.12681072\n",
      "  1.67772942  0.33339852  0.27112527  1.93921112  0.74248849  2.01757619\n",
      " -0.53483166  1.96350829  1.02220562  0.31414353  1.70060515  0.82484509\n",
      "  1.7375323   1.6963971  -0.44510327  1.41020245  1.11969848  2.51143611\n",
      " -0.5019572   2.27724526  1.27081465  0.76115523 -0.44595406  1.80264493\n",
      "  0.90294745  0.03414775  1.59728796  0.97056054  0.72893987  1.17662239\n",
      " -0.37810205  1.41605238  0.12778293 -0.26025712  0.75387887  1.08290501\n",
      "  1.21061383 -0.49829003  0.78419327 -0.00364272  2.90833065  1.10164716\n",
      " -0.47032138  0.70938986  0.60861524 -0.26018008  2.37214464 -0.51673135\n",
      "  0.07513195  0.35303684  1.00444407] [ 0.49809766  0.25329506  0.19630543  0.85845963  0.16204532  0.60448011\n",
      "  0.7788132   0.72281123 -0.02474559  0.93803436  0.71703625  0.28192911\n",
      "  0.41403225  0.89417071  0.50287836  0.40644304  0.40165582  0.76549632\n",
      "  0.39210996  0.17285491  0.77413274  0.66006229  0.85157075  1.01078178\n",
      "  0.42492494  0.19326109  0.71904933  0.98833943  0.65830312  0.58675603\n",
      "  0.99967982  0.01700763  0.58379708  0.40495464 -0.0715527   0.08554079\n",
      "  0.31776941  0.16434186  0.62320305  0.29151256  0.33236374  0.09569768\n",
      "  0.03668477  0.23115188  0.07318623  0.74649182  0.14620555  0.91853739\n",
      "  1.04352066  0.1439863   0.34201953  0.20377872  0.63699271  0.53160178\n",
      "  0.79101908  0.58579195  0.2828869   0.52424072  0.25869483  0.1527568\n",
      "  0.37503676  0.63911447  0.43187421 -0.00577173  0.57139006  0.48227703\n",
      " -0.02835799  0.70817055  0.7564893   0.22172422  0.97100071 -0.00438963\n",
      "  0.59313021  0.19815309  0.22384491  0.76869137  0.20090273  0.43119226\n",
      "  0.06354434  0.24330061  0.00618518  0.28854194  0.28987129  0.15761018\n",
      "  1.01602915  0.5150727   0.93767842 -0.06934112  0.11697237  0.18674518\n",
      " -0.02890543  0.73147317  0.4175554   0.71897596  0.92322944  1.07194946\n",
      "  0.02765272  0.49535748  0.09393955  0.29012676  0.34625423  0.73493639\n",
      "  0.87329375  0.02667263  0.37944198]\n"
     ]
    }
   ],
   "source": [
    "print(y1,y2)"
   ]
  },
  {
   "cell_type": "code",
   "execution_count": 5,
   "metadata": {},
   "outputs": [
    {
     "data": {
      "text/plain": [
       "(array([ 1.,  1., 11., 14., 20., 14., 17., 12., 13.,  2.]),\n",
       " array([-1.95370508, -1.46750151, -0.98129793, -0.49509436, -0.00889079,\n",
       "         0.47731279,  0.96351636,  1.44971993,  1.93592351,  2.42212708,\n",
       "         2.90833065]),\n",
       " <a list of 10 Patch objects>)"
      ]
     },
     "execution_count": 5,
     "metadata": {},
     "output_type": "execute_result"
    }
   ],
   "source": [
    "import matplotlib.pyplot as plt\n",
    "\n",
    "plt.hist(y1, bins = 10)"
   ]
  },
  {
   "cell_type": "code",
   "execution_count": 6,
   "metadata": {
    "scrolled": true
   },
   "outputs": [
    {
     "name": "stdout",
     "output_type": "stream",
     "text": [
      "0.444627467314407\n"
     ]
    },
    {
     "data": {
      "image/png": "[encoded data removed]",
      "text/plain": [
       "<Figure size 432x288 with 1 Axes>"
      ]
     },
     "metadata": {
      "needs_background": "light"
     },
     "output_type": "display_data"
    }
   ],
   "source": [
    "plt.hist(y2, bins=10)\n",
    "print(np.mean(y2))"
   ]
  },
  {
   "cell_type": "code",
   "execution_count": 7,
   "metadata": {},
   "outputs": [],
   "source": [
    "# IGD, the ordering is permitted to have replacement. \n",
    "#\n",
    "#\n",
    "def IGD_wr_task1(y):\n",
    "    n = len(y)\n",
    "    ordering = np.random.choice(n, n, replace=True)\n",
    "    alpha = 1\n",
    "    x = [0]\n",
    "    k = 0\n",
    "    for i in ordering:\n",
    "        k += 1\n",
    "        x.append(x[-1] - (1/(k+1))*alpha*(x[-1] - y[i]))\n",
    "    return x\n",
    "\n",
    "\n",
    "# IGD, the ordering is not permitted to have replacement.\n",
    "#\n",
    "#\n",
    "def IGD_wo_task1(y):\n",
    "    n = len(y)\n",
    "    ordering = np.random.choice(n, n, replace=False)\n",
    "    alpha = 1\n",
    "    x = [0]\n",
    "    k = 0\n",
    "    for i in ordering:\n",
    "        k += 1\n",
    "        x.append(x[-1] - (1/(k+1))*alpha*(x[-1] - y[i]))\n",
    "    return x"
   ]
  },
  {
   "cell_type": "code",
   "execution_count": 8,
   "metadata": {},
   "outputs": [],
   "source": [
    "wr1 = IGD_wr_task1(y1)\n",
    "wo1 = IGD_wo_task1(y1)\n",
    "wr2 = IGD_wr_task1(y2)\n",
    "wo2 = IGD_wo_task1(y2)"
   ]
  },
  {
   "cell_type": "code",
   "execution_count": 9,
   "metadata": {},
   "outputs": [
    {
     "data": {
      "text/plain": [
       "[<matplotlib.lines.Line2D at 0x7fecf24f99b0>]"
      ]
     },
     "execution_count": 9,
     "metadata": {},
     "output_type": "execute_result"
    },
    {
     "data": {
      "image/png": "[encoded data removed]",
      "text/plain": [
       "<Figure size 432x288 with 1 Axes>"
      ]
     },
     "metadata": {
      "needs_background": "light"
     },
     "output_type": "display_data"
    }
   ],
   "source": [
    "plt.plot(np.arange(n+1),wr1)\n",
    "plt.plot(np.arange(n+1),wr2)\n",
    "plt.plot(np.arange(n+1),0.5*np.ones(n+1))"
   ]
  },
  {
   "cell_type": "code",
   "execution_count": 10,
   "metadata": {},
   "outputs": [
    {
     "data": {
      "text/plain": [
       "[<matplotlib.lines.Line2D at 0x7fecf24e2860>]"
      ]
     },
     "execution_count": 10,
     "metadata": {},
     "output_type": "execute_result"
    },
    {
     "data": {
      "image/png": "[encoded data removed]",
      "text/plain": [
       "<Figure size 432x288 with 1 Axes>"
      ]
     },
     "metadata": {
      "needs_background": "light"
     },
     "output_type": "display_data"
    }
   ],
   "source": [
    "plt.plot(np.arange(n+1),wo1)\n",
    "plt.plot(np.arange(n+1),wo2)\n",
    "plt.plot(np.arange(n+1),0.5*np.ones(n+1))"
   ]
  },
  {
   "cell_type": "code",
   "execution_count": null,
   "metadata": {},
   "outputs": [],
   "source": []
  },
  {
   "cell_type": "code",
   "execution_count": null,
   "metadata": {},
   "outputs": [],
   "source": []
  }
 ],
 "metadata": {
  "kernelspec": {
   "display_name": "Python 3",
   "language": "python",
   "name": "python3"
  },
  "language_info": {
   "codemirror_mode": {
    "name": "ipython",
    "version": 3
   },
   "file_extension": ".py",
   "mimetype": "text/x-python",
   "name": "python",
   "nbconvert_exporter": "python",
   "pygments_lexer": "ipython3",
   "version": "3.6.7"
  }
 },
 "nbformat": 4,
 "nbformat_minor": 2
}
