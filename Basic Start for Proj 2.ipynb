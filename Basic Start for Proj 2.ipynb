{
 "cells": [
  {
   "cell_type": "code",
   "execution_count": 271,
   "metadata": {},
   "outputs": [],
   "source": [
    "# generate a vector of random numbers which obeys the given distribution.\n",
    "#\n",
    "# n: length of the vector\n",
    "# mu: mean value\n",
    "# sigma: standard deviation.\n",
    "# dist: choices for the distribution, you need to implement at least normal \n",
    "#       distribution and uniform distribution.\n",
    "#\n",
    "# For normal distribution, you can use ``numpy.random.normal`` to generate.\n",
    "# For uniform distribution, the interval to sample will be [mu - sigma/sqrt(3), mu + sigma/sqrt(3)].\n",
    "\n",
    "import numpy as np\n",
    "import math\n",
    "\n",
    "def generate_random_numbers(n, mu, sigma, dist=\"normal\"):\n",
    "    # write your code here.\n",
    "    if dist == \"normal\":\n",
    "        return np.random.normal(mu, sigma, n)\n",
    "    elif dist == \"uniform\":\n",
    "        #return np.random.choice(np.linspace(mu - sigma/math.sqrt(3), mu + sigma/math.sqrt(3), num = n*10),(1,n))[0]\n",
    "        return np.random.uniform((mu - sigma)/math.sqrt(3), (mu + sigma)/math.sqrt(3), (1,n))[0]\n",
    "    else:\n",
    "        raise Exception(\"The distribution {unknown_dist} is not implemented\".format(unknown_dist=dist))\n",
    "        \n",
    "        \n",
    "# test your code:\n",
    "y_test = generate_random_numbers(5, 0, 0.1, \"normal\")"
   ]
  },
  {
   "cell_type": "code",
   "execution_count": 272,
   "metadata": {},
   "outputs": [
    {
     "data": {
      "text/plain": [
       "array([-0.03712236, -0.0045278 , -0.17051056,  0.03608886, -0.02664871])"
      ]
     },
     "execution_count": 272,
     "metadata": {},
     "output_type": "execute_result"
    }
   ],
   "source": [
    "y_test"
   ]
  },
  {
   "cell_type": "code",
   "execution_count": 273,
   "metadata": {},
   "outputs": [],
   "source": [
    "n, mu, sigma, dist = 105, 0.5, 1.0, \"normal\"\n",
    "y1 = generate_random_numbers(n, mu, sigma, dist)\n",
    "\n",
    "n, mu, sigma, dist = 105, 0.5, 1.0, \"uniform\"\n",
    "y2 = generate_random_numbers(n, mu, sigma, dist)"
   ]
  },
  {
   "cell_type": "code",
   "execution_count": 274,
   "metadata": {},
   "outputs": [
    {
     "name": "stdout",
     "output_type": "stream",
     "text": [
      "[-0.18002978  0.47311583  0.6149324   2.04190396  0.02003643  0.81129266\n",
      "  2.10345708  0.00776354  1.19480674  1.74729107  0.33544841  2.04418169\n",
      " -0.15204874  1.63163365  1.13854037  1.01877593  0.8784238  -0.03488859\n",
      " -0.77497775  0.36563959 -0.06844694  0.97473984  0.59036346  0.91722913\n",
      " -0.32653202 -0.80873399 -0.53970834 -0.65724232  0.55173522  0.88360131\n",
      "  1.36283013  1.34416632  0.98885543  0.21877615  0.14737555  1.44557237\n",
      "  0.60320988 -0.56184355 -0.67397355  2.92477371  1.02509771  0.67523491\n",
      " -0.05823396  1.09721207  1.7250772  -1.34804272 -0.84384322  1.76926484\n",
      "  1.23738743  2.08662767  2.16902491  1.57036275  0.12066717  0.37253885\n",
      "  0.20491695 -0.18028062  2.11912817  1.41052502 -0.69473234 -0.95828185\n",
      "  1.27325568  2.20771425  0.9030104   0.48737277 -0.06165556  0.93417104\n",
      "  1.18970567  0.39705521  0.31125116  1.16413042  1.25243818  1.19087576\n",
      "  1.88280329  2.6956115   1.18557849 -0.32299861  0.64583088 -0.97682506\n",
      "  1.58525638  1.57605718 -0.99309858  0.51714358 -0.73868203  1.65578832\n",
      " -0.74710969  0.77237782 -0.6967671   0.40253519  1.06833502  1.0716532\n",
      "  0.67685421  0.02543665  0.5300113   1.01995192  0.50140898  0.75091571\n",
      "  1.02601876 -2.32762092 -0.69133897 -0.42892163 -0.52518142  0.2170014\n",
      "  0.63859694  0.59838567 -0.41420755] [-0.15454762  0.35650057  0.72567082  0.31167957 -0.15116099  0.23600816\n",
      "  0.21816638 -0.0383834  -0.21435312  0.36817225  0.71563979  0.75222256\n",
      " -0.06113762  0.68106439  0.54728135  0.54881925 -0.02479806  0.4679829\n",
      " -0.08993341 -0.09679341  0.38729116 -0.12067848 -0.00596747 -0.15338468\n",
      "  0.48459908  0.25295968  0.75875816  0.57502566  0.30370722 -0.06672732\n",
      "  0.14192654  0.30213611 -0.26986417 -0.00413861 -0.24854022  0.44953279\n",
      "  0.44856067  0.3576069   0.71236629  0.44189373  0.2453961   0.78793011\n",
      "  0.30935487  0.82423739  0.23228178  0.23356272  0.85396751 -0.25703237\n",
      "  0.31853177  0.77932176  0.44539501  0.40709224  0.30639899  0.39721158\n",
      "  0.14588823  0.11993028  0.29543508 -0.05386219  0.66982118  0.59342594\n",
      " -0.14084651  0.01372334  0.75479301  0.44546917  0.0195168   0.24900885\n",
      "  0.4519504   0.2043192   0.3926253   0.07895488  0.696629   -0.04664287\n",
      " -0.20883532  0.25359494 -0.12940752  0.83041043  0.31153538 -0.00243484\n",
      "  0.74113097 -0.06010465  0.25324991  0.19570573  0.43223949 -0.16844474\n",
      "  0.32245261 -0.00915558 -0.23795488  0.40880413  0.27496493  0.17071587\n",
      "  0.29156809  0.70800599  0.80221155  0.68221079  0.35089139 -0.00886415\n",
      "  0.26455521 -0.12236913  0.53714787  0.00580226  0.66863898  0.52934585\n",
      " -0.23898588 -0.26723981  0.32406154]\n"
     ]
    }
   ],
   "source": [
    "print(y1,y2)"
   ]
  },
  {
   "cell_type": "code",
   "execution_count": 275,
   "metadata": {},
   "outputs": [
    {
     "data": {
      "text/plain": [
       "(array([ 1.,  1.,  6., 14., 15., 23., 24., 11.,  8.,  2.]),\n",
       " array([-2.32762092, -1.80238145, -1.27714199, -0.75190253, -0.22666306,\n",
       "         0.2985764 ,  0.82381586,  1.34905532,  1.87429479,  2.39953425,\n",
       "         2.92477371]),\n",
       " <a list of 10 Patch objects>)"
      ]
     },
     "execution_count": 275,
     "metadata": {},
     "output_type": "execute_result"
    },
    {
     "data": {
      "image/png": "[encoded data removed]",
      "text/plain": [
       "<Figure size 432x288 with 1 Axes>"
      ]
     },
     "metadata": {},
     "output_type": "display_data"
    }
   ],
   "source": [
    "import matplotlib.pyplot as plt\n",
    "\n",
    "plt.hist(y1, bins = 10)"
   ]
  },
  {
   "cell_type": "code",
   "execution_count": 276,
   "metadata": {
    "scrolled": true
   },
   "outputs": [
    {
     "data": {
      "text/plain": [
       "(array([ 9., 14., 10.,  5., 14., 17., 11.,  6., 10.,  9.]),\n",
       " array([-0.26986417, -0.157481  , -0.04509783,  0.06728534,  0.1796685 ,\n",
       "         0.29205167,  0.40443484,  0.51681801,  0.62920117,  0.74158434,\n",
       "         0.85396751]),\n",
       " <a list of 10 Patch objects>)"
      ]
     },
     "execution_count": 276,
     "metadata": {},
     "output_type": "execute_result"
    },
    {
     "data": {
      "image/png": "[encoded data removed]",
      "text/plain": [
       "<Figure size 432x288 with 1 Axes>"
      ]
     },
     "metadata": {},
     "output_type": "display_data"
    }
   ],
   "source": [
    "plt.hist(y2, bins=10)"
   ]
  },
  {
   "cell_type": "code",
   "execution_count": 277,
   "metadata": {},
   "outputs": [],
   "source": [
    "# IGD, the ordering is permitted to have replacement. \n",
    "#\n",
    "#\n",
    "def IGD_wr_task1(y):\n",
    "    n = len(y)\n",
    "    ordering = np.random.choice(n, n, replace=True)\n",
    "    alpha = 1\n",
    "    x = [0]\n",
    "    k = 0\n",
    "    for i in ordering:\n",
    "        k += 1\n",
    "        x.append(x[-1] - (1/(k+1))*alpha*(x[-1] - y[i]))\n",
    "    return x\n",
    "\n",
    "\n",
    "# IGD, the ordering is not permitted to have replacement.\n",
    "#\n",
    "#\n",
    "def IGD_wo_task1(y):\n",
    "    n = len(y)\n",
    "    ordering = np.random.choice(n, n, replace=False)\n",
    "    alpha = 1\n",
    "    x = [0]\n",
    "    k = 0\n",
    "    for i in ordering:\n",
    "        k += 1\n",
    "        x.append(x[-1] - (1/(k+1))*alpha*(x[-1] - y[i]))\n",
    "    return x"
   ]
  },
  {
   "cell_type": "code",
   "execution_count": 278,
   "metadata": {},
   "outputs": [],
   "source": [
    "wr1 = IGD_wr_task1(y1)\n",
    "wo1 = IGD_wo_task1(y1)\n",
    "wr2 = IGD_wr_task1(y2)\n",
    "wo2 = IGD_wo_task1(y2)"
   ]
  },
  {
   "cell_type": "code",
   "execution_count": 279,
   "metadata": {},
   "outputs": [
    {
     "data": {
      "text/plain": [
       "[<matplotlib.lines.Line2D at 0x1b8d4b16ef0>]"
      ]
     },
     "execution_count": 279,
     "metadata": {},
     "output_type": "execute_result"
    },
    {
     "data": {
      "image/png": "[encoded data removed]",
      "text/plain": [
       "<Figure size 432x288 with 1 Axes>"
      ]
     },
     "metadata": {},
     "output_type": "display_data"
    }
   ],
   "source": [
    "plt.plot(np.arange(n+1),wr1)\n",
    "plt.plot(np.arange(n+1),wr2)\n",
    "plt.plot(np.arange(n+1),0.5*np.ones(n+1))"
   ]
  },
  {
   "cell_type": "code",
   "execution_count": 280,
   "metadata": {},
   "outputs": [
    {
     "data": {
      "text/plain": [
       "[<matplotlib.lines.Line2D at 0x1b8d4ab81d0>]"
      ]
     },
     "execution_count": 280,
     "metadata": {},
     "output_type": "execute_result"
    },
    {
     "data": {
      "image/png": "[encoded data removed]",
      "text/plain": [
       "<Figure size 432x288 with 1 Axes>"
      ]
     },
     "metadata": {},
     "output_type": "display_data"
    }
   ],
   "source": [
    "plt.plot(np.arange(n+1),wo1)\n",
    "plt.plot(np.arange(n+1),wo2)\n",
    "plt.plot(np.arange(n+1),0.5*np.ones(n+1))"
   ]
  }
 ],
 "metadata": {
  "kernelspec": {
   "display_name": "Python 3",
   "language": "python",
   "name": "python3"
  },
  "language_info": {
   "codemirror_mode": {
    "name": "ipython",
    "version": 3
   },
   "file_extension": ".py",
   "mimetype": "text/x-python",
   "name": "python",
   "nbconvert_exporter": "python",
   "pygments_lexer": "ipython3",
   "version": "3.6.5"
  }
 },
 "nbformat": 4,
 "nbformat_minor": 2
}
